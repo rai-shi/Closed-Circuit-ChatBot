{
 "cells": [
  {
   "cell_type": "markdown",
   "metadata": {},
   "source": [
    "LangChainDeprecationWarning: Importing GuardrailsOutputParser from langchain.output_parsers is deprecated. Please replace the import with the following:\n",
    "from langchain_community.output_parsers.rail_parser import GuardrailsOutputParser\n",
    "  warnings.warn(\n",
    "/home/ktu/anaconda3/envs/llama_env/lib/python3.11/site-packages/langchain/document_loaders/__init__.py:36: LangChainDeprecationWarning: Importing document loaders from langchain is deprecated. Importing from langchain will no longer be supported as of langchain==0.2.0. Please import from langchain-community instead:\n",
    "\n",
    "`from langchain_community.document_loaders import DirectoryLoader`.\n",
    "\n",
    "To install langchain-community run `pip install -U langchain-community`.\n",
    "  warnings.warn(\n",
    "/home/ktu/anaconda3/envs/llama_env/lib/python3.11/site-packages/langchain/document_loaders/__init__.py:36: LangChainDeprecationWarning: Importing document loaders from langchain is deprecated. Importing from langchain will no longer be supported as of langchain==0.2.0. Please import from langchain-community instead:\n",
    "\n",
    "`from langchain_community.document_loaders import TextLoader`.\n",
    "\n",
    "To install langchain-community run `pip install -U langchain-community`.\n",
    "  warnings.warn(\n",
    "/home/ktu/anaconda3/envs/llama_env/lib/python3.11/site-packages/langchain/vectorstores/__init__.py:35: LangChainDeprecationWarning: Importing vector stores from langchain is deprecated. Importing from langchain will no longer be supported as of langchain==0.2.0. Please import from langchain-community instead:\n",
    "\n",
    "`from langchain_community.vectorstores import Qdrant`.\n",
    "\n",
    "To install langchain-community run `pip install -U langchain-community`.\n",
    "  warnings.warn(\n",
    "/home/ktu/anaconda3/envs/llama_env/lib/python3.11/site-packages/langchain/llms/__init__.py:548: LangChainDeprecationWarning: Importing LLMs from langchain is deprecated. Importing from langchain will no longer be supported as of langchain==0.2.0. Please import from langchain-community instead:\n",
    "\n",
    "`from langchain_community.llms import HuggingFacePipeline`.\n",
    "\n",
    "To install langchain-community run `pip install -U langchain-community`.\n",
    "  warnings.warn(\n",
    "/home/ktu/anaconda3/envs/llama_env/lib/python3.11/site-packages/langchain/embeddings/__init__.py:29: LangChainDeprecationWarning: Importing embeddings from langchain is deprecated. Importing from langchain will no longer be supported as of langchain==0.2.0. Please import from langchain-community instead:\n",
    "\n",
    "`from langchain_community.embeddings import HuggingFaceEmbeddings`.\n",
    "\n",
    "To install langchain-community run `pip install -U langchain-community`.\n"
   ]
  }
 ],
 "metadata": {
  "language_info": {
   "name": "python"
  }
 },
 "nbformat": 4,
 "nbformat_minor": 2
}
